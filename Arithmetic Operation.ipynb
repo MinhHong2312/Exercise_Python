{
 "cells": [
  {
   "cell_type": "code",
   "execution_count": 2,
   "id": "4f773fa2",
   "metadata": {},
   "outputs": [
    {
     "data": {
      "text/plain": [
       "21"
      ]
     },
     "execution_count": 2,
     "metadata": {},
     "output_type": "execute_result"
    }
   ],
   "source": [
    "(5+2)*3\n"
   ]
  },
  {
   "cell_type": "code",
   "execution_count": 3,
   "id": "7b6ee9fd",
   "metadata": {},
   "outputs": [],
   "source": [
    "a =1"
   ]
  },
  {
   "cell_type": "code",
   "execution_count": 4,
   "id": "bcc24e71",
   "metadata": {},
   "outputs": [
    {
     "data": {
      "text/plain": [
       "1"
      ]
     },
     "execution_count": 4,
     "metadata": {},
     "output_type": "execute_result"
    }
   ],
   "source": [
    "a "
   ]
  },
  {
   "cell_type": "code",
   "execution_count": 5,
   "id": "658fadd7",
   "metadata": {},
   "outputs": [
    {
     "data": {
      "text/plain": [
       "False"
      ]
     },
     "execution_count": 5,
     "metadata": {},
     "output_type": "execute_result"
    }
   ],
   "source": [
    "5<2"
   ]
  },
  {
   "cell_type": "code",
   "execution_count": 6,
   "id": "37e6cb96",
   "metadata": {},
   "outputs": [],
   "source": [
    "string1 = \"String Python Tutorial\""
   ]
  },
  {
   "cell_type": "code",
   "execution_count": 7,
   "id": "803131a4",
   "metadata": {},
   "outputs": [
    {
     "data": {
      "text/plain": [
       "'String Python Tutorial'"
      ]
     },
     "execution_count": 7,
     "metadata": {},
     "output_type": "execute_result"
    }
   ],
   "source": [
    "string1"
   ]
  },
  {
   "cell_type": "code",
   "execution_count": 8,
   "id": "a160a0a1",
   "metadata": {},
   "outputs": [],
   "source": [
    "x = \"Meo Meo\""
   ]
  },
  {
   "cell_type": "code",
   "execution_count": 9,
   "id": "54c0bf4c",
   "metadata": {},
   "outputs": [
    {
     "ename": "NameError",
     "evalue": "name 'X' is not defined",
     "output_type": "error",
     "traceback": [
      "\u001b[1;31m---------------------------------------------------------------------------\u001b[0m",
      "\u001b[1;31mNameError\u001b[0m                                 Traceback (most recent call last)",
      "\u001b[1;32m~\\AppData\\Local\\Temp\\ipykernel_16436\\533180986.py\u001b[0m in \u001b[0;36m<module>\u001b[1;34m\u001b[0m\n\u001b[1;32m----> 1\u001b[1;33m \u001b[0mprint\u001b[0m \u001b[1;33m(\u001b[0m\u001b[1;34m\"Pet cua Chuk la {}\"\u001b[0m\u001b[1;33m.\u001b[0m\u001b[0mformat\u001b[0m \u001b[1;33m(\u001b[0m\u001b[0mX\u001b[0m\u001b[1;33m)\u001b[0m\u001b[1;33m)\u001b[0m\u001b[1;33m\u001b[0m\u001b[1;33m\u001b[0m\u001b[0m\n\u001b[0m",
      "\u001b[1;31mNameError\u001b[0m: name 'X' is not defined"
     ]
    }
   ],
   "source": [
    "print (\"Pet cua Chuk la {}\".format (X))"
   ]
  },
  {
   "cell_type": "code",
   "execution_count": 12,
   "id": "e8974b4d",
   "metadata": {},
   "outputs": [
    {
     "name": "stdout",
     "output_type": "stream",
     "text": [
      "Pet cua Chuk la Ngu\n"
     ]
    }
   ],
   "source": [
    "print (\"Pet cua Chuk la {}\".format (x))"
   ]
  },
  {
   "cell_type": "code",
   "execution_count": 11,
   "id": "a98a6d65",
   "metadata": {},
   "outputs": [],
   "source": [
    "x = \"Ngu\""
   ]
  },
  {
   "cell_type": "code",
   "execution_count": 13,
   "id": "05c9f276",
   "metadata": {},
   "outputs": [],
   "source": [
    "a = \"Cat\""
   ]
  },
  {
   "cell_type": "code",
   "execution_count": 15,
   "id": "9b5af0a2",
   "metadata": {},
   "outputs": [],
   "source": [
    "b= \"Meo\""
   ]
  },
  {
   "cell_type": "code",
   "execution_count": 16,
   "id": "72dc791c",
   "metadata": {},
   "outputs": [],
   "source": [
    "c = 24"
   ]
  },
  {
   "cell_type": "code",
   "execution_count": 17,
   "id": "5231dac5",
   "metadata": {},
   "outputs": [
    {
     "name": "stdout",
     "output_type": "stream",
     "text": [
      "Cat la con Meo, no 24 tuoi \n"
     ]
    }
   ],
   "source": [
    "print (\"{} la con {}, no {} tuoi \".format (a,b,c))"
   ]
  },
  {
   "cell_type": "code",
   "execution_count": 18,
   "id": "95ec0d74",
   "metadata": {},
   "outputs": [
    {
     "data": {
      "text/plain": [
       "22"
      ]
     },
     "execution_count": 18,
     "metadata": {},
     "output_type": "execute_result"
    }
   ],
   "source": [
    "len(string1)"
   ]
  },
  {
   "cell_type": "code",
   "execution_count": 19,
   "id": "ea711e98",
   "metadata": {},
   "outputs": [
    {
     "ename": "TypeError",
     "evalue": "replace expected at least 2 arguments, got 0",
     "output_type": "error",
     "traceback": [
      "\u001b[1;31m---------------------------------------------------------------------------\u001b[0m",
      "\u001b[1;31mTypeError\u001b[0m                                 Traceback (most recent call last)",
      "\u001b[1;32m~\\AppData\\Local\\Temp\\ipykernel_16436\\2577277580.py\u001b[0m in \u001b[0;36m<module>\u001b[1;34m\u001b[0m\n\u001b[1;32m----> 1\u001b[1;33m \u001b[0mstring1\u001b[0m\u001b[1;33m.\u001b[0m\u001b[0mreplace\u001b[0m\u001b[1;33m(\u001b[0m\u001b[1;33m)\u001b[0m\u001b[1;33m\u001b[0m\u001b[1;33m\u001b[0m\u001b[0m\n\u001b[0m",
      "\u001b[1;31mTypeError\u001b[0m: replace expected at least 2 arguments, got 0"
     ]
    }
   ],
   "source": [
    "string1.replace()"
   ]
  },
  {
   "cell_type": "code",
   "execution_count": 20,
   "id": "c9027e80",
   "metadata": {},
   "outputs": [],
   "source": [
    "d = string1.replace(\"Python\", \"SQL\")"
   ]
  },
  {
   "cell_type": "code",
   "execution_count": 21,
   "id": "3b185723",
   "metadata": {},
   "outputs": [
    {
     "data": {
      "text/plain": [
       "'String SQL Tutorial'"
      ]
     },
     "execution_count": 21,
     "metadata": {},
     "output_type": "execute_result"
    }
   ],
   "source": [
    "d"
   ]
  },
  {
   "cell_type": "code",
   "execution_count": null,
   "id": "08a57c93",
   "metadata": {},
   "outputs": [],
   "source": []
  }
 ],
 "metadata": {
  "kernelspec": {
   "display_name": "Python 3 (ipykernel)",
   "language": "python",
   "name": "python3"
  },
  "language_info": {
   "codemirror_mode": {
    "name": "ipython",
    "version": 3
   },
   "file_extension": ".py",
   "mimetype": "text/x-python",
   "name": "python",
   "nbconvert_exporter": "python",
   "pygments_lexer": "ipython3",
   "version": "3.9.13"
  }
 },
 "nbformat": 4,
 "nbformat_minor": 5
}
