{
 "cells": [
  {
   "cell_type": "code",
   "execution_count": 1,
   "id": "a6f0ae65",
   "metadata": {},
   "outputs": [],
   "source": [
    "x= \" Co 1 con Meo\""
   ]
  },
  {
   "cell_type": "code",
   "execution_count": 4,
   "id": "4264a0d0",
   "metadata": {},
   "outputs": [
    {
     "data": {
      "text/plain": [
       "' '"
      ]
     },
     "execution_count": 4,
     "metadata": {},
     "output_type": "execute_result"
    }
   ],
   "source": [
    "x[0]"
   ]
  },
  {
   "cell_type": "code",
   "execution_count": 5,
   "id": "c83ddb5a",
   "metadata": {},
   "outputs": [
    {
     "data": {
      "text/plain": [
       "'C'"
      ]
     },
     "execution_count": 5,
     "metadata": {},
     "output_type": "execute_result"
    }
   ],
   "source": [
    "x[1]"
   ]
  },
  {
   "cell_type": "code",
   "execution_count": 6,
   "id": "36a1c92c",
   "metadata": {},
   "outputs": [
    {
     "data": {
      "text/plain": [
       "' Co'"
      ]
     },
     "execution_count": 6,
     "metadata": {},
     "output_type": "execute_result"
    }
   ],
   "source": [
    "x[0:3]"
   ]
  },
  {
   "cell_type": "code",
   "execution_count": 7,
   "id": "b255ac85",
   "metadata": {},
   "outputs": [],
   "source": [
    "y=\"ABCDEFGH\""
   ]
  },
  {
   "cell_type": "code",
   "execution_count": 8,
   "id": "39d4ce20",
   "metadata": {},
   "outputs": [
    {
     "data": {
      "text/plain": [
       "'AB'"
      ]
     },
     "execution_count": 8,
     "metadata": {},
     "output_type": "execute_result"
    }
   ],
   "source": [
    "y[0:2]"
   ]
  },
  {
   "cell_type": "code",
   "execution_count": 9,
   "id": "58c1d39a",
   "metadata": {},
   "outputs": [
    {
     "data": {
      "text/plain": [
       "'H'"
      ]
     },
     "execution_count": 9,
     "metadata": {},
     "output_type": "execute_result"
    }
   ],
   "source": [
    "y[-1]"
   ]
  },
  {
   "cell_type": "code",
   "execution_count": 10,
   "id": "32459f1a",
   "metadata": {},
   "outputs": [
    {
     "data": {
      "text/plain": [
       "'ABC'"
      ]
     },
     "execution_count": 10,
     "metadata": {},
     "output_type": "execute_result"
    }
   ],
   "source": [
    "y[:3]"
   ]
  },
  {
   "cell_type": "code",
   "execution_count": 11,
   "id": "d67b1b02",
   "metadata": {},
   "outputs": [
    {
     "data": {
      "text/plain": [
       "'DEFGH'"
      ]
     },
     "execution_count": 11,
     "metadata": {},
     "output_type": "execute_result"
    }
   ],
   "source": [
    "y[3:]"
   ]
  },
  {
   "cell_type": "code",
   "execution_count": 12,
   "id": "78bc1c28",
   "metadata": {},
   "outputs": [],
   "source": [
    "h=\"ABCDEFGHIKLMN\""
   ]
  },
  {
   "cell_type": "code",
   "execution_count": 14,
   "id": "327535cf",
   "metadata": {},
   "outputs": [
    {
     "data": {
      "text/plain": [
       "'CEGI'"
      ]
     },
     "execution_count": 14,
     "metadata": {},
     "output_type": "execute_result"
    }
   ],
   "source": [
    "h[2:10:2]"
   ]
  },
  {
   "cell_type": "code",
   "execution_count": 15,
   "id": "71be2a1d",
   "metadata": {},
   "outputs": [
    {
     "data": {
      "text/plain": [
       "int"
      ]
     },
     "execution_count": 15,
     "metadata": {},
     "output_type": "execute_result"
    }
   ],
   "source": [
    "m=12\n",
    "type (m)"
   ]
  },
  {
   "cell_type": "code",
   "execution_count": 16,
   "id": "1a367e41",
   "metadata": {},
   "outputs": [
    {
     "data": {
      "text/plain": [
       "float"
      ]
     },
     "execution_count": 16,
     "metadata": {},
     "output_type": "execute_result"
    }
   ],
   "source": [
    "n=2.5\n",
    "type(n)"
   ]
  },
  {
   "cell_type": "code",
   "execution_count": 17,
   "id": "0b22cd55",
   "metadata": {},
   "outputs": [
    {
     "data": {
      "text/plain": [
       "str"
      ]
     },
     "execution_count": 17,
     "metadata": {},
     "output_type": "execute_result"
    }
   ],
   "source": [
    "type (h)"
   ]
  },
  {
   "cell_type": "code",
   "execution_count": 19,
   "id": "fbcbf575",
   "metadata": {},
   "outputs": [],
   "source": [
    "l1 = [1,\"A\",\"B\",3,4]"
   ]
  },
  {
   "cell_type": "code",
   "execution_count": 21,
   "id": "7083fbe4",
   "metadata": {},
   "outputs": [
    {
     "data": {
      "text/plain": [
       "list"
      ]
     },
     "execution_count": 21,
     "metadata": {},
     "output_type": "execute_result"
    }
   ],
   "source": [
    "type(l1)"
   ]
  },
  {
   "cell_type": "code",
   "execution_count": 22,
   "id": "9d8d1fea",
   "metadata": {},
   "outputs": [
    {
     "name": "stdout",
     "output_type": "stream",
     "text": [
      "[1, 'A', 'B', 3, 4]\n"
     ]
    }
   ],
   "source": [
    "print (l1)"
   ]
  },
  {
   "cell_type": "code",
   "execution_count": 24,
   "id": "4b8522da",
   "metadata": {},
   "outputs": [
    {
     "data": {
      "text/plain": [
       "1"
      ]
     },
     "execution_count": 24,
     "metadata": {},
     "output_type": "execute_result"
    }
   ],
   "source": [
    "l1[0]"
   ]
  },
  {
   "cell_type": "code",
   "execution_count": 25,
   "id": "9082469d",
   "metadata": {},
   "outputs": [
    {
     "data": {
      "text/plain": [
       "'A'"
      ]
     },
     "execution_count": 25,
     "metadata": {},
     "output_type": "execute_result"
    }
   ],
   "source": [
    "l1[1]"
   ]
  },
  {
   "cell_type": "code",
   "execution_count": 26,
   "id": "2b1a8653",
   "metadata": {},
   "outputs": [],
   "source": [
    "l3=[\"A\",\"B\",1,2,3,4,5,6,7]"
   ]
  },
  {
   "cell_type": "code",
   "execution_count": 27,
   "id": "fc943e14",
   "metadata": {},
   "outputs": [
    {
     "data": {
      "text/plain": [
       "['A', 1, 3, 5, 7]"
      ]
     },
     "execution_count": 27,
     "metadata": {},
     "output_type": "execute_result"
    }
   ],
   "source": [
    "l3[::2]"
   ]
  },
  {
   "cell_type": "code",
   "execution_count": 28,
   "id": "7f8e0416",
   "metadata": {},
   "outputs": [
    {
     "data": {
      "text/plain": [
       "['A', 'B', 1]"
      ]
     },
     "execution_count": 28,
     "metadata": {},
     "output_type": "execute_result"
    }
   ],
   "source": [
    "l3[:3]"
   ]
  },
  {
   "cell_type": "code",
   "execution_count": 29,
   "id": "cffe3e47",
   "metadata": {},
   "outputs": [
    {
     "data": {
      "text/plain": [
       "str"
      ]
     },
     "execution_count": 29,
     "metadata": {},
     "output_type": "execute_result"
    }
   ],
   "source": [
    "type(l3[0])"
   ]
  },
  {
   "cell_type": "code",
   "execution_count": 30,
   "id": "a03294b6",
   "metadata": {},
   "outputs": [
    {
     "data": {
      "text/plain": [
       "int"
      ]
     },
     "execution_count": 30,
     "metadata": {},
     "output_type": "execute_result"
    }
   ],
   "source": [
    "type(l3[2])"
   ]
  },
  {
   "cell_type": "code",
   "execution_count": 31,
   "id": "9d594774",
   "metadata": {},
   "outputs": [],
   "source": [
    "l4 = [l3,0.5,12,\"D\"]"
   ]
  },
  {
   "cell_type": "code",
   "execution_count": 33,
   "id": "d542044f",
   "metadata": {},
   "outputs": [
    {
     "name": "stdout",
     "output_type": "stream",
     "text": [
      "[['A', 'B', 1, 2, 3, 4, 5, 6, 7], 0.5, 12, 'D']\n"
     ]
    }
   ],
   "source": [
    "print (l4)"
   ]
  },
  {
   "cell_type": "code",
   "execution_count": 34,
   "id": "99b5a7cf",
   "metadata": {},
   "outputs": [
    {
     "data": {
      "text/plain": [
       "list"
      ]
     },
     "execution_count": 34,
     "metadata": {},
     "output_type": "execute_result"
    }
   ],
   "source": [
    "type (l4[0])"
   ]
  },
  {
   "cell_type": "code",
   "execution_count": 35,
   "id": "8751b797",
   "metadata": {},
   "outputs": [
    {
     "data": {
      "text/plain": [
       "float"
      ]
     },
     "execution_count": 35,
     "metadata": {},
     "output_type": "execute_result"
    }
   ],
   "source": [
    "type(l4[1])"
   ]
  },
  {
   "cell_type": "code",
   "execution_count": 36,
   "id": "664d333f",
   "metadata": {},
   "outputs": [
    {
     "data": {
      "text/plain": [
       "'A'"
      ]
     },
     "execution_count": 36,
     "metadata": {},
     "output_type": "execute_result"
    }
   ],
   "source": [
    "l4[0][0]"
   ]
  },
  {
   "cell_type": "code",
   "execution_count": 37,
   "id": "0bb7bb36",
   "metadata": {},
   "outputs": [
    {
     "data": {
      "text/plain": [
       "1"
      ]
     },
     "execution_count": 37,
     "metadata": {},
     "output_type": "execute_result"
    }
   ],
   "source": [
    "l4[0][2]"
   ]
  },
  {
   "cell_type": "code",
   "execution_count": 38,
   "id": "6618741b",
   "metadata": {},
   "outputs": [],
   "source": [
    "l5 = list (range (0,10,2))"
   ]
  },
  {
   "cell_type": "code",
   "execution_count": 39,
   "id": "b8354531",
   "metadata": {},
   "outputs": [
    {
     "data": {
      "text/plain": [
       "[0, 2, 4, 6, 8]"
      ]
     },
     "execution_count": 39,
     "metadata": {},
     "output_type": "execute_result"
    }
   ],
   "source": [
    "l5"
   ]
  },
  {
   "cell_type": "code",
   "execution_count": 40,
   "id": "91241c66",
   "metadata": {},
   "outputs": [],
   "source": [
    "l6 = list (range(0,10))"
   ]
  },
  {
   "cell_type": "code",
   "execution_count": 41,
   "id": "aa169f14",
   "metadata": {},
   "outputs": [
    {
     "data": {
      "text/plain": [
       "[0, 2, 4, 6, 8]"
      ]
     },
     "execution_count": 41,
     "metadata": {},
     "output_type": "execute_result"
    }
   ],
   "source": [
    "l5"
   ]
  },
  {
   "cell_type": "code",
   "execution_count": 42,
   "id": "5780df95",
   "metadata": {},
   "outputs": [
    {
     "data": {
      "text/plain": [
       "[0, 1, 2, 3, 4, 5, 6, 7, 8, 9]"
      ]
     },
     "execution_count": 42,
     "metadata": {},
     "output_type": "execute_result"
    }
   ],
   "source": [
    "l6"
   ]
  },
  {
   "cell_type": "code",
   "execution_count": 43,
   "id": "a5387bc3",
   "metadata": {},
   "outputs": [],
   "source": [
    "l5.sort(reverse = True)"
   ]
  },
  {
   "cell_type": "code",
   "execution_count": 44,
   "id": "2f0d6b10",
   "metadata": {},
   "outputs": [
    {
     "data": {
      "text/plain": [
       "[8, 6, 4, 2, 0]"
      ]
     },
     "execution_count": 44,
     "metadata": {},
     "output_type": "execute_result"
    }
   ],
   "source": [
    "l5"
   ]
  },
  {
   "cell_type": "code",
   "execution_count": 45,
   "id": "09d61e9c",
   "metadata": {},
   "outputs": [
    {
     "data": {
      "text/plain": [
       "[2, 'A', 'B', 3, 4]"
      ]
     },
     "execution_count": 45,
     "metadata": {},
     "output_type": "execute_result"
    }
   ],
   "source": [
    "l1[0]=2\n",
    "l1"
   ]
  },
  {
   "cell_type": "code",
   "execution_count": 46,
   "id": "71585e0a",
   "metadata": {},
   "outputs": [
    {
     "data": {
      "text/plain": [
       "[0.5, 'D', 'B', 3, 4]"
      ]
     },
     "execution_count": 46,
     "metadata": {},
     "output_type": "execute_result"
    }
   ],
   "source": [
    "l1[0:2] = [0.5, \"D\"]\n",
    "l1"
   ]
  },
  {
   "cell_type": "code",
   "execution_count": 47,
   "id": "3cb574c1",
   "metadata": {},
   "outputs": [
    {
     "data": {
      "text/plain": [
       "[1, 2, 3, 4, 5, 6, 7, 8, 9, 'Hello']"
      ]
     },
     "execution_count": 47,
     "metadata": {},
     "output_type": "execute_result"
    }
   ],
   "source": [
    "l7 = [1,2,3,4,5,6,7,8,9,\"Hello\"]\n",
    "l7"
   ]
  },
  {
   "cell_type": "code",
   "execution_count": 48,
   "id": "04ac5410",
   "metadata": {},
   "outputs": [],
   "source": [
    "l7.insert(0, \"Meo\")"
   ]
  },
  {
   "cell_type": "code",
   "execution_count": 49,
   "id": "1a61e4e6",
   "metadata": {},
   "outputs": [
    {
     "data": {
      "text/plain": [
       "['Meo', 1, 2, 3, 4, 5, 6, 7, 8, 9, 'Hello']"
      ]
     },
     "execution_count": 49,
     "metadata": {},
     "output_type": "execute_result"
    }
   ],
   "source": [
    "l7"
   ]
  },
  {
   "cell_type": "code",
   "execution_count": 50,
   "id": "6b4d44aa",
   "metadata": {},
   "outputs": [
    {
     "data": {
      "text/plain": [
       "['Meo', 1, 3, 4, 5, 6, 7, 8, 9, 'Hello']"
      ]
     },
     "execution_count": 50,
     "metadata": {},
     "output_type": "execute_result"
    }
   ],
   "source": [
    "l7.remove(2)\n",
    "l7"
   ]
  },
  {
   "cell_type": "code",
   "execution_count": 51,
   "id": "663c6244",
   "metadata": {},
   "outputs": [
    {
     "data": {
      "text/plain": [
       "['Meo', 3, 4, 5, 6, 7, 8, 9, 'Hello']"
      ]
     },
     "execution_count": 51,
     "metadata": {},
     "output_type": "execute_result"
    }
   ],
   "source": [
    "del l7[1]\n",
    "l7"
   ]
  },
  {
   "cell_type": "markdown",
   "id": "b3d21494",
   "metadata": {},
   "source": [
    "## Tuples "
   ]
  },
  {
   "cell_type": "code",
   "execution_count": 54,
   "id": "84ee9b59",
   "metadata": {},
   "outputs": [
    {
     "data": {
      "text/plain": [
       "(1, 2)"
      ]
     },
     "execution_count": 54,
     "metadata": {},
     "output_type": "execute_result"
    }
   ],
   "source": [
    "t1 = (1,2)\n",
    "t1"
   ]
  },
  {
   "cell_type": "code",
   "execution_count": 55,
   "id": "da1d6dfa",
   "metadata": {},
   "outputs": [
    {
     "ename": "TypeError",
     "evalue": "'tuple' object does not support item assignment",
     "output_type": "error",
     "traceback": [
      "\u001b[1;31m---------------------------------------------------------------------------\u001b[0m",
      "\u001b[1;31mTypeError\u001b[0m                                 Traceback (most recent call last)",
      "\u001b[1;32m~\\AppData\\Local\\Temp\\ipykernel_11832\\2938807561.py\u001b[0m in \u001b[0;36m<module>\u001b[1;34m\u001b[0m\n\u001b[1;32m----> 1\u001b[1;33m \u001b[0mt1\u001b[0m \u001b[1;33m[\u001b[0m\u001b[1;36m0\u001b[0m\u001b[1;33m]\u001b[0m \u001b[1;33m=\u001b[0m\u001b[1;36m3\u001b[0m\u001b[1;33m\u001b[0m\u001b[1;33m\u001b[0m\u001b[0m\n\u001b[0m\u001b[0;32m      2\u001b[0m \u001b[0mt1\u001b[0m\u001b[1;33m\u001b[0m\u001b[1;33m\u001b[0m\u001b[0m\n",
      "\u001b[1;31mTypeError\u001b[0m: 'tuple' object does not support item assignment"
     ]
    }
   ],
   "source": [
    "t1 [0] =3 \n",
    "t1"
   ]
  },
  {
   "cell_type": "markdown",
   "id": "1094f6e6",
   "metadata": {},
   "source": [
    "## Dictionaries"
   ]
  },
  {
   "cell_type": "code",
   "execution_count": 56,
   "id": "0399d5ef",
   "metadata": {},
   "outputs": [],
   "source": [
    "d1 = {\"Key1\": 1,\n",
    "     \"Key2\": \"A\",\n",
    "     \"Key3\": 1.25}"
   ]
  },
  {
   "cell_type": "code",
   "execution_count": 57,
   "id": "76ea7243",
   "metadata": {},
   "outputs": [
    {
     "data": {
      "text/plain": [
       "{'Key1': 1, 'Key2': 'A', 'Key3': 1.25}"
      ]
     },
     "execution_count": 57,
     "metadata": {},
     "output_type": "execute_result"
    }
   ],
   "source": [
    "d1"
   ]
  }
 ],
 "metadata": {
  "kernelspec": {
   "display_name": "Python 3 (ipykernel)",
   "language": "python",
   "name": "python3"
  },
  "language_info": {
   "codemirror_mode": {
    "name": "ipython",
    "version": 3
   },
   "file_extension": ".py",
   "mimetype": "text/x-python",
   "name": "python",
   "nbconvert_exporter": "python",
   "pygments_lexer": "ipython3",
   "version": "3.9.13"
  }
 },
 "nbformat": 4,
 "nbformat_minor": 5
}
